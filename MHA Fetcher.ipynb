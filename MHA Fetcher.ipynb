{
 "cells": [
  {
   "cell_type": "markdown",
   "id": "7069cb17",
   "metadata": {},
   "source": [
    "# My Hero Academia Fetcher\n",
    "\n",
    "![my_hero_academia](https://img1.hulu.com/user/v3/artwork/36e318dc-3daf-47fb-8219-9e3cb5cd28f2?base_image_bucket_name=image_manager&base_image=2d0d3308-9323-4716-b7d8-03f171c844af&size=1200x630&format=jpeg)\n",
    "\n",
    "I love My Hero Academia. I'm an avid reader of the weekly manga that comes out. I read the early English translations of the scans that come out every Friday (mostly). The release times vary, but it's generally available in the afternoon or\n",
    "evening most Fridays. \n",
    "\n",
    "When I'm looking for the next issue I normally search by issue number, which takes memorization. I don't mind it, but there's certainly a better way. Also, sometimes there are break weeks where there is no release at all. I want to know about those as well, and sometimes it's useful to have a reminder that it's a break week.\n",
    "\n",
    "This script will be used to check [MHARead](https://mharead.com) to see when the newest translation is available. Once it's available, it will send me a text message and an email with the link so that I can go ahead and read the latest issue. If it's a break week, it will also send me a text to remind me that there will be no comic. The script will also keep track of the current, previous, and next issues coming up.\n",
    "\n",
    "## Tools used\n",
    "\n",
    "For this project, I will be using `requests`, `BeautifulSoup`,`re`, `time`, `date`, and `schedule`. Additionally, I'll be using Windows TaskScheduler to kick it off every Friday. The overall plan is to use `requests` and `BeautifulSoup` to scrape the site to check for availability, and `re` will be used to handle searching for specific text. Finally, I'll be using `twilio` to send myself text messages from the script to either send me the link to the comic or let me know it's a break week. \n",
    "\n",
    "## Program Flow\n",
    "\n",
    "On a given Friday:\n",
    "- Windows TaskScheduler kicks off the script at 8:00 a.m. EST\n",
    "- The script first checks the date and compares that to the next known release date\n",
    "- If the current date and release date match, then the script begins to check the site for the manga.\n",
    "- If the manga is on the site, then it will send me a link to the page via text message\n",
    "- If the manga is not on the site, then the script will run again in two hours to check\n",
    "- If the current date and release date don't match, then the script will not run and I will get a message saying that it is a break week and letting me know when the next issue will be available\n",
    "\n",
    "\n"
   ]
  },
  {
   "cell_type": "code",
   "execution_count": 163,
   "id": "0b2bc763",
   "metadata": {},
   "outputs": [],
   "source": [
    "#!pip install requests\n",
    "#!pip install twilio>=6.0.0\n",
    "#!pip install python-dotenv\n",
    "#!pip install schedule\n",
    "import requests\n",
    "import re\n",
    "import os\n",
    "import json\n",
    "import schedule\n",
    "import time\n",
    "import threading\n",
    "from datetime import date, datetime, timedelta\n",
    "from bs4 import BeautifulSoup\n",
    "from twilio.rest import Client\n",
    "from dotenv import load_dotenv"
   ]
  },
  {
   "cell_type": "code",
   "execution_count": 125,
   "id": "c1806b99",
   "metadata": {},
   "outputs": [
    {
     "data": {
      "text/plain": [
       "True"
      ]
     },
     "execution_count": 125,
     "metadata": {},
     "output_type": "execute_result"
    }
   ],
   "source": [
    "load_dotenv()"
   ]
  },
  {
   "cell_type": "code",
   "execution_count": 133,
   "id": "6a66e5af",
   "metadata": {},
   "outputs": [],
   "source": [
    "\"\"\"\n",
    "    Opens the issues.json file and\n",
    "    returns a json object for parsing\n",
    "\"\"\"\n",
    "def get_issues(path):\n",
    "    r = open(path,'r')\n",
    "    issues = json.load(r)\n",
    "    r.close()\n",
    "    return issues\n",
    "\n",
    "\n",
    "\"\"\"\n",
    "    Writes changes to the issues.json file\n",
    "    back to the source\n",
    "\"\"\"\n",
    "def update_issues(path,updates):\n",
    "    w = open(path,'w')\n",
    "    json.dump(updates,w)\n",
    "    w.close()\n",
    "\n",
    "    \n",
    "\"\"\"\n",
    "    Sends a text message to my phone using the Twilio API\n",
    "\"\"\"    \n",
    "def send_message(message):\n",
    "    client = Client(os.getenv('TWILIO_SID')\n",
    "                   ,os.getenv('TWILIO_AUTH_TOKEN'))\n",
    "    client.messages.create(to=os.getenv('MY_PHONE')\n",
    "                          ,from_=os.getenv('TWILIO_NUMBER')\n",
    "                          ,body=message)\n",
    "\n",
    "\n",
    "\"\"\"\n",
    "    Returns soup for the requested issue\n",
    "\"\"\"\n",
    "def get_soup(url):\n",
    "    html = requests.get(url)\n",
    "    return BeautifulSoup(html.text,'html5lib')\n",
    "\n",
    "\n",
    "\"\"\"\n",
    "    Takes in a soup object and returns the next \n",
    "    release date as a string\n",
    "\"\"\"\n",
    "def get_release_date(soup):\n",
    "    default_nxt_release = (date.today()+timedelta(7))\\\n",
    "                           .strftime('%m/%d/%Y')\n",
    "    date_pattern = r\".{1,2}\\/.{1,2}\\/.{4}\"\n",
    "    pattern = re.compile(date_pattern)\n",
    "    # We will try to find the next release date on the website. \n",
    "    # If it's not there,then we will use next the Friday's date\n",
    "    next_release = [item.text for item in soup.find_all('a')\n",
    "                    if pattern.match(item.text)]\n",
    "    # If there is nothing found for the next release date, \n",
    "    # return the default date\n",
    "    return default_nxt_release if len(next_release) < 1 \\\n",
    "           else next_release[0]\n",
    "    "
   ]
  },
  {
   "cell_type": "code",
   "execution_count": 166,
   "id": "4a4a0552",
   "metadata": {},
   "outputs": [],
   "source": [
    "# Get issue info\n",
    "issues = get_issues('issues.json')\n",
    "prev_issue,curr_issue,next_issue,next_release = issues.values()\n",
    "\n",
    "# Check if today is the release date\n",
    "is_release = True #assume we have a release since it's a Friday, unless we have a break\n",
    "if len(next_release) > 1:\n",
    "    release_date = [int(item) for item in next_release.split(\"/\")]\n",
    "    release_date = datetime(release_date[2],release_date[0],release_date[1]).date()\n",
    "    is_release = date.today() == release_date\n",
    "\n",
    "# If today is the release date, then continue. Otherwise, stop the script and send the break message\n",
    "# Break Message:\n",
    "#send_message(f\"Looks like the issue isn't available yet! The release date for the next installment is: {next_release[0]}\")\n"
   ]
  },
  {
   "cell_type": "markdown",
   "id": "16bbdc3f",
   "metadata": {},
   "source": [
    "# If today is the release date..."
   ]
  },
  {
   "cell_type": "code",
   "execution_count": 187,
   "id": "99ac564b",
   "metadata": {},
   "outputs": [],
   "source": [
    "url = f\"https://mharead.com/manga/boku-no-hero-academia-my-hero-academia-chapter-{curr_issue}/\"\n",
    "soup = get_soup(url)"
   ]
  },
  {
   "cell_type": "code",
   "execution_count": 188,
   "id": "0b53b879",
   "metadata": {},
   "outputs": [
    {
     "data": {
      "text/plain": [
       "'\\n\\nschedule.every(2).hours.do(is_here)\\nmha_available = is_here()\\n#Start the background thread\\nstop_run_continuously = run_continuously()\\n\\nwhile not mha_available:\\n    schedule.run_pending()\\n\\nif is_here():\\n    #Stop the background job\\n    stop_run_continuously.set()\\n    #The manga is here! Send the link \\n    #and update the json file for next week\\n    get_mha(url)\\n    update_mha_issue()\\n'"
      ]
     },
     "execution_count": 188,
     "metadata": {},
     "output_type": "execute_result"
    }
   ],
   "source": [
    "job_interval = ((60**2)*2)\n",
    "\n",
    "\n",
    "\"\"\"Continuously run, while executing pending jobs at each\n",
    "elapsed time interval.\n",
    "@return cease_continuous_run: threading. Event which can\n",
    "be set to cease continuous run. Please note that it is\n",
    "*intended behavior that run_continuously() does not run\n",
    "missed jobs*. For example, if you've registered a job that\n",
    "should run every minute and you set a continuous run\n",
    "interval of one hour then your job won't be run 60 times\n",
    "at each interval but only once.\n",
    "\"\"\"\n",
    "def run_continuously(interval=job_interval):\n",
    "\n",
    "    cease_continuous_run = threading.Event()\n",
    "\n",
    "    class ScheduleThread(threading.Thread):\n",
    "        @classmethod\n",
    "        def run(cls):\n",
    "            while not cease_continuous_run.is_set():\n",
    "                schedule.run_pending()\n",
    "                time.sleep(interval)\n",
    "\n",
    "    continuous_thread = ScheduleThread()\n",
    "    continuous_thread.start()\n",
    "    return cease_continuous_run\n",
    "\n",
    "\n",
    "\n",
    "\"\"\"\n",
    "    This checks to see if our manga is ready to view.\n",
    "    Returns True if it is available; False otherwise.\n",
    "\"\"\"\n",
    "def is_here():\n",
    "    try:\n",
    "        #If this works, then the manga is not out yet. \n",
    "        is_out = soup.find_all('h1')[1]\n",
    "        return False\n",
    "    except IndexError:\n",
    "        #The manga is available!\n",
    "        return True\n",
    "    \n",
    "    \n",
    "\"\"\"\n",
    "    Sends SMS with link to latest manga issue\n",
    "\"\"\"\n",
    "def get_mha(url):\n",
    "    #Send the notification\n",
    "    message = f\"The next issue is here! \\n{url}\"\n",
    "    send_message(message)\n",
    "    \n",
    "    \n",
    "\"\"\"\n",
    "    Updates JSON file with latest info\n",
    "\"\"\" \n",
    "def update_mha_issue():\n",
    "    #Update the JSON file with new information\n",
    "    issues['prev_issue'] += 1\n",
    "    issues['curr_issue'] += 1\n",
    "    issues['next_issue'] += 1\n",
    "    issues['next_release'] = get_release_date(soup)\n",
    "    update_issues('issues.json',issues)\n",
    "    \n",
    "    \n",
    "\"\"\"\n",
    "\n",
    "schedule.every(2).hours.do(is_here)\n",
    "mha_available = is_here()\n",
    "#Start the background thread\n",
    "stop_run_continuously = run_continuously()\n",
    "\n",
    "while not mha_available:\n",
    "    schedule.run_pending()\n",
    "\n",
    "if is_here():\n",
    "    #Stop the background job\n",
    "    stop_run_continuously.set()\n",
    "    #The manga is here! Send the link \n",
    "    #and update the json file for next week\n",
    "    get_mha(url)\n",
    "    update_mha_issue()\n",
    "\"\"\""
   ]
  },
  {
   "cell_type": "code",
   "execution_count": 189,
   "id": "2703091d",
   "metadata": {},
   "outputs": [
    {
     "name": "stdout",
     "output_type": "stream",
     "text": [
      "Something's up!\n",
      "330\n",
      "https://mharead.com/manga/boku-no-hero-academia-my-hero-academia-chapter-330/\n",
      "[<h1 class=\"site-title\" id=\"site-title\" itemprop=\"headline\">\n",
      "\t\t\t\t\t\t\t\t<a href=\"https://mharead.com/\" rel=\"home\">Boku No Hero Academia – My Hero Academia Manga Online</a>\n",
      "\t\t\t\t\t\t\t</h1>, <h1 class=\"entry-title\" itemprop=\"headline\">Boku No Hero Academia – My Hero Academia</h1>]\n"
     ]
    }
   ],
   "source": [
    "# Test out our new functions\n",
    "if is_here():\n",
    "    print(\"I am here!\")\n",
    "    get_mha(url)\n",
    "else:\n",
    "    print(\"Something's up!\")\n",
    "    print(curr_issue)\n",
    "    print(url)\n",
    "    is_out = soup.find_all('h1')\n",
    "    print(is_out)"
   ]
  },
  {
   "cell_type": "markdown",
   "id": "32955514",
   "metadata": {},
   "source": [
    "# TODO for next time:\n",
    "\n",
    "- Need to rework logic for checking if the manga is there or not\n",
    "- Create unit tests for functions\n",
    "- Test out schedule\n",
    "- Break these out into individual scripts"
   ]
  },
  {
   "cell_type": "code",
   "execution_count": null,
   "id": "fc9f5a19",
   "metadata": {},
   "outputs": [],
   "source": []
  }
 ],
 "metadata": {
  "kernelspec": {
   "display_name": "Python 3 (ipykernel)",
   "language": "python",
   "name": "python3"
  },
  "language_info": {
   "codemirror_mode": {
    "name": "ipython",
    "version": 3
   },
   "file_extension": ".py",
   "mimetype": "text/x-python",
   "name": "python",
   "nbconvert_exporter": "python",
   "pygments_lexer": "ipython3",
   "version": "3.9.7"
  }
 },
 "nbformat": 4,
 "nbformat_minor": 5
}
